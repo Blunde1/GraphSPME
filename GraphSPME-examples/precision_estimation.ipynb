{
 "cells": [
  {
   "cell_type": "code",
   "execution_count": 1,
   "id": "41d036fe",
   "metadata": {},
   "outputs": [],
   "source": [
    "import numpy as np\n",
    "from scipy import sparse\n",
    "from scipy.sparse import csc_matrix\n",
    "from scipy.sparse.linalg import spsolve_triangular, norm\n",
    "from scipy.optimize import minimize\n",
    "import graphspme as gspme\n",
    "\n",
    "def frobenius_norm(M):\n",
    "    \"\"\"M assumed sparse\"\"\"\n",
    "    return np.sum(np.power(M.A, 2))\n",
    "\n",
    "# Zero mean AR1\n",
    "def rar1(n, psi):\n",
    "    x = np.zeros(n)\n",
    "    x[0] = np.random.normal(0, 1 / np.sqrt(1 - psi ** 2))\n",
    "    w = np.random.normal(size=n - 1)\n",
    "    for i in range(1, n):\n",
    "        x[i] = psi * x[i - 1] + w[i - 1]\n",
    "    return x"
   ]
  },
  {
   "cell_type": "code",
   "execution_count": 2,
   "id": "70c42e76",
   "metadata": {},
   "outputs": [],
   "source": [
    "np.random.seed(1234)\n",
    "p = 10\n",
    "phi = 0.99\n",
    "n = 200\n",
    "x = np.vstack([rar1(p, phi) for i in range(n)])"
   ]
  },
  {
   "cell_type": "code",
   "execution_count": 3,
   "id": "d78357c7",
   "metadata": {},
   "outputs": [
    {
     "name": "stdout",
     "output_type": "stream",
     "text": [
      "[[ 1.     -0.99    0.      0.      0.      0.      0.      0.      0.\n",
      "   0.    ]\n",
      " [-0.99    1.9801 -0.99    0.      0.      0.      0.      0.      0.\n",
      "   0.    ]\n",
      " [ 0.     -0.99    1.9801 -0.99    0.      0.      0.      0.      0.\n",
      "   0.    ]\n",
      " [ 0.      0.     -0.99    1.9801 -0.99    0.      0.      0.      0.\n",
      "   0.    ]\n",
      " [ 0.      0.      0.     -0.99    1.9801 -0.99    0.      0.      0.\n",
      "   0.    ]\n",
      " [ 0.      0.      0.      0.     -0.99    1.9801 -0.99    0.      0.\n",
      "   0.    ]\n",
      " [ 0.      0.      0.      0.      0.     -0.99    1.9801 -0.99    0.\n",
      "   0.    ]\n",
      " [ 0.      0.      0.      0.      0.      0.     -0.99    1.9801 -0.99\n",
      "   0.    ]\n",
      " [ 0.      0.      0.      0.      0.      0.      0.     -0.99    1.9801\n",
      "  -0.99  ]\n",
      " [ 0.      0.      0.      0.      0.      0.      0.      0.     -0.99\n",
      "   1.    ]]\n"
     ]
    }
   ],
   "source": [
    "data = [np.repeat(-phi, p-1), np.concatenate(([1.0], np.repeat(1.0+phi**2, p-2), [1.0])), np.repeat(-phi, p-1)]\n",
    "offsets = [-1, 0, 1]\n",
    "prec_pop = sparse.diags(data, offsets, shape=(p, p), format='csc')\n",
    "print(prec_pop.A)"
   ]
  },
  {
   "cell_type": "code",
   "execution_count": 4,
   "id": "dc8267d2",
   "metadata": {},
   "outputs": [
    {
     "name": "stdout",
     "output_type": "stream",
     "text": [
      "[[1. 1. 0. 0. 0. 0. 0. 0. 0. 0.]\n",
      " [1. 1. 1. 0. 0. 0. 0. 0. 0. 0.]\n",
      " [0. 1. 1. 1. 0. 0. 0. 0. 0. 0.]\n",
      " [0. 0. 1. 1. 1. 0. 0. 0. 0. 0.]\n",
      " [0. 0. 0. 1. 1. 1. 0. 0. 0. 0.]\n",
      " [0. 0. 0. 0. 1. 1. 1. 0. 0. 0.]\n",
      " [0. 0. 0. 0. 0. 1. 1. 1. 0. 0.]\n",
      " [0. 0. 0. 0. 0. 0. 1. 1. 1. 0.]\n",
      " [0. 0. 0. 0. 0. 0. 0. 1. 1. 1.]\n",
      " [0. 0. 0. 0. 0. 0. 0. 0. 1. 1.]]\n"
     ]
    }
   ],
   "source": [
    "diagonals = [[1] * p, [1] * (p - 1), [1] * (p - 1)]\n",
    "Z = sparse.diags(diagonals, [0, -1, 1], format=\"csc\")\n",
    "print(Z.A)"
   ]
  },
  {
   "cell_type": "code",
   "execution_count": 5,
   "id": "2c9156dd",
   "metadata": {},
   "outputs": [
    {
     "name": "stdout",
     "output_type": "stream",
     "text": [
      "[[ 1.18657098 -1.1942025   0.          0.          0.          0.\n",
      "   0.          0.          0.          0.        ]\n",
      " [-1.1942025   2.26320855 -1.04140628  0.          0.          0.\n",
      "   0.          0.          0.          0.        ]\n",
      " [ 0.         -1.04140628  1.9470656  -0.91155115  0.          0.\n",
      "   0.          0.          0.          0.        ]\n",
      " [ 0.          0.         -0.91155115  2.02436312 -1.06630997  0.\n",
      "   0.          0.          0.          0.        ]\n",
      " [ 0.          0.          0.         -1.06630997  2.00881192 -1.03765609\n",
      "   0.          0.          0.          0.        ]\n",
      " [ 0.          0.          0.          0.         -1.03765609  2.02170024\n",
      "  -0.91282794  0.          0.          0.        ]\n",
      " [ 0.          0.          0.          0.          0.         -0.91282794\n",
      "   1.71846669 -0.86022083  0.          0.        ]\n",
      " [ 0.          0.          0.          0.          0.          0.\n",
      "  -0.86022083  1.99275722 -1.12823449  0.        ]\n",
      " [ 0.          0.          0.          0.          0.          0.\n",
      "   0.         -1.12823449  2.19431615 -0.97985747]\n",
      " [ 0.          0.          0.          0.          0.          0.\n",
      "   0.          0.         -0.97985747  0.93499404]]\n"
     ]
    }
   ],
   "source": [
    "prec_1 = gspme.prec_sparse(x, Z, markov_order=1, cov_shrinkage=False, symmetrization=True)\n",
    "print(prec_1.A)"
   ]
  },
  {
   "cell_type": "code",
   "execution_count": 6,
   "id": "e6d69f7b",
   "metadata": {},
   "outputs": [
    {
     "name": "stdout",
     "output_type": "stream",
     "text": [
      "[[ 1.2942025  -1.1942025   0.          0.          0.          0.\n",
      "   0.          0.          0.          0.        ]\n",
      " [-1.1942025   2.26320855 -1.04140628  0.          0.          0.\n",
      "   0.          0.          0.          0.        ]\n",
      " [ 0.         -1.04140628  2.05295743 -0.91155115  0.          0.\n",
      "   0.          0.          0.          0.        ]\n",
      " [ 0.          0.         -0.91155115  2.02436312 -1.06630997  0.\n",
      "   0.          0.          0.          0.        ]\n",
      " [ 0.          0.          0.         -1.06630997  2.20396606 -1.03765609\n",
      "   0.          0.          0.          0.        ]\n",
      " [ 0.          0.          0.          0.         -1.03765609  2.02170024\n",
      "  -0.91282794  0.          0.          0.        ]\n",
      " [ 0.          0.          0.          0.          0.         -0.91282794\n",
      "   1.87304877 -0.86022083  0.          0.        ]\n",
      " [ 0.          0.          0.          0.          0.          0.\n",
      "  -0.86022083  1.99275722 -1.12823449  0.        ]\n",
      " [ 0.          0.          0.          0.          0.          0.\n",
      "   0.         -1.12823449  2.19431615 -0.97985747]\n",
      " [ 0.          0.          0.          0.          0.          0.\n",
      "   0.          0.         -0.97985747  1.07985747]]\n"
     ]
    }
   ],
   "source": [
    "def gershgorin_spd_adjustment(prec):\n",
    "    \"\"\"\n",
    "    Performs Gershgorin-style diagonal adjustment on the input sparse matrix `prec`\n",
    "    and returns the adjusted matrix. The adjustment is performed to ensure that the matrix\n",
    "    is symmetric positive definite (SPD).\n",
    "\n",
    "    Parameters\n",
    "    ----------\n",
    "    prec : scipy.sparse.csc_matrix\n",
    "        The input sparse matrix to adjust.\n",
    "\n",
    "    Returns\n",
    "    -------\n",
    "    scipy.sparse.csc_matrix\n",
    "        The SPD matrix after Gershgorin-style diagonal adjustment.\n",
    "    \"\"\"\n",
    "    prec = prec.copy().tocsc()\n",
    "    eps = 1e-1\n",
    "    offdiag_abs_sum = np.abs(prec).sum(axis=1).A.ravel() - prec.diagonal()\n",
    "    for i in range(prec.shape[0]):\n",
    "        if offdiag_abs_sum[i] > prec[i, i]:\n",
    "            prec[i, i] = offdiag_abs_sum[i] + eps\n",
    "    return prec\n",
    "prec_2 = gershgorin_spd_adjustment(prec_1)\n",
    "print(prec_2.A)"
   ]
  },
  {
   "cell_type": "code",
   "execution_count": 7,
   "id": "a4d57265",
   "metadata": {},
   "outputs": [
    {
     "data": {
      "text/plain": [
       "array([8, 9, 7, 6, 5, 4, 3, 2, 1, 0], dtype=int32)"
      ]
     },
     "execution_count": 7,
     "metadata": {},
     "output_type": "execute_result"
    }
   ],
   "source": [
    "perm_indices = gspme.compute_amd_ordering(prec_2)\n",
    "perm_indices"
   ]
  },
  {
   "cell_type": "code",
   "execution_count": 8,
   "id": "7acb8a53",
   "metadata": {},
   "outputs": [],
   "source": [
    "def paramIntoCholLower(theta, GraphL):\n",
    "    i, j, _ = sparse.find(GraphL)\n",
    "    L = csc_matrix((theta, (i, j)), shape=GraphL.shape)\n",
    "    return L\n",
    "\n",
    "def funL(thetaL, x, GraphL, perm_indices):\n",
    "    L = paramIntoCholLower(thetaL, GraphL)\n",
    "    return gspme.dmrfL(x, L, perm_indices)\n",
    "\n",
    "def gradL(thetaL, x, GraphL, perm_indices):\n",
    "    L = paramIntoCholLower(thetaL, GraphL)\n",
    "    return gspme.dmrfL_grad(x, L, L, perm_indices).ravel()\n",
    "\n",
    "def hessL(thetaL, x, GraphL, perm_indices):\n",
    "    L = paramIntoCholLower(thetaL, GraphL)\n",
    "    return gspme.dmrfL_hess(x, L, L, perm_indices)\n",
    "\n",
    "def prec_chol_L_opt(x, L, perm_indices):\n",
    "    _, _, thetaL = sparse.find(L)\n",
    "    opt = minimize(\n",
    "        funL,\n",
    "        thetaL,\n",
    "        args=(x, L, perm_indices),\n",
    "        method=\"trust-ncg\",\n",
    "        #method=\"trust-constr\",\n",
    "        #method=\"TNC\", # okay\n",
    "        #method=\"COBYLA\",\n",
    "        #method=\"SLSQP\",\n",
    "        #method=\"Newton-CG\",\n",
    "        #method=\"cg\",\n",
    "        #method='BFGS',\n",
    "        #method=\"L-BFGS-B\",\n",
    "        #method='trust-krylov',\n",
    "        #method=\"dogleg\",\n",
    "        jac=gradL,\n",
    "        hess=hessL,\n",
    "        options={'disp': True,},\n",
    "    )\n",
    "    L = paramIntoCholLower(opt.x, L)\n",
    "    return L"
   ]
  },
  {
   "cell_type": "code",
   "execution_count": 9,
   "id": "db9b73b1",
   "metadata": {},
   "outputs": [
    {
     "name": "stdout",
     "output_type": "stream",
     "text": [
      "[[ 1.03916191  0.          0.          0.          0.          0.\n",
      "   0.          0.          0.          0.        ]\n",
      " [-0.94293052  1.14245271  0.          0.          0.          0.\n",
      "   0.          0.          0.          0.        ]\n",
      " [ 0.         -0.98755465  1.0087086   0.          0.          0.\n",
      "   0.          0.          0.          0.        ]\n",
      " [ 0.          0.         -0.85279419  1.0704162   0.          0.\n",
      "   0.          0.          0.          0.        ]\n",
      " [ 0.          0.          0.         -0.85277852  1.13774736  0.\n",
      "   0.          0.          0.          0.        ]\n",
      " [ 0.          0.          0.          0.         -0.91202681  1.17139795\n",
      "   0.          0.          0.          0.        ]\n",
      " [ 0.          0.          0.          0.          0.         -0.9102884\n",
      "   1.09349812  0.          0.          0.        ]\n",
      " [ 0.          0.          0.          0.          0.          0.\n",
      "  -0.83361017  1.16535468  0.          0.        ]\n",
      " [ 0.          0.          0.          0.          0.          0.\n",
      "   0.          0.          1.13763021  0.        ]\n",
      " [ 0.          0.          0.          0.          0.          0.\n",
      "   0.         -0.89363891 -1.04972819  0.60223649]]\n"
     ]
    },
    {
     "data": {
      "text/plain": [
       "20.203300080341005"
      ]
     },
     "execution_count": 9,
     "metadata": {},
     "output_type": "execute_result"
    }
   ],
   "source": [
    "L_prev = gspme.cholesky_factor(prec_2, perm_indices)\n",
    "print(L_prev.A)\n",
    "#L_opt = prec_chol_L_opt(x, L)\n",
    "gspme.dmrfL(x, L_prev, perm_indices)"
   ]
  },
  {
   "cell_type": "code",
   "execution_count": 10,
   "id": "ffa59610",
   "metadata": {},
   "outputs": [
    {
     "name": "stdout",
     "output_type": "stream",
     "text": [
      "         Current function value: 7.170507\n",
      "         Iterations: 34\n",
      "         Function evaluations: 35\n",
      "         Gradient evaluations: 6\n",
      "         Hessian evaluations: 6\n",
      "[[ 0.81468149 -0.90015652  0.          0.          0.          0.\n",
      "   0.          0.          0.          0.        ]\n",
      " [-0.90015652  1.71772234 -0.78122622  0.          0.          0.\n",
      "   0.          0.          0.          0.        ]\n",
      " [ 0.         -0.78122622  1.79686825 -0.92925174  0.          0.\n",
      "   0.          0.          0.          0.        ]\n",
      " [ 0.          0.         -0.92925174  2.02850994 -1.08480081  0.\n",
      "   0.          0.          0.          0.        ]\n",
      " [ 0.          0.          0.         -1.08480081  2.14118291 -1.05092184\n",
      "   0.          0.          0.          0.        ]\n",
      " [ 0.          0.          0.          0.         -1.05092184  1.97292848\n",
      "  -0.92407116  0.          0.          0.        ]\n",
      " [ 0.          0.          0.          0.          0.         -0.92407116\n",
      "   1.76907406 -0.86743443  0.          0.        ]\n",
      " [ 0.          0.          0.          0.          0.          0.\n",
      "  -0.86743443  2.02073613 -1.1314571   0.        ]\n",
      " [ 0.          0.          0.          0.          0.          0.\n",
      "   0.         -1.1314571   2.11581732 -0.97894024]\n",
      " [ 0.          0.          0.          0.          0.          0.\n",
      "   0.          0.         -0.97894024  0.95918379]]\n"
     ]
    },
    {
     "name": "stderr",
     "output_type": "stream",
     "text": [
      "/Users/berentanundstromneslunde/.pyenv/versions/3.10.0/envs/gspme-py-3.10.0/lib/python3.10/site-packages/scipy/optimize/_minimize.py:729: RuntimeWarning: A bad approximation caused failure to predict improvement.\n",
      "  res = _minimize_trust_ncg(fun, x0, args, jac, hess, hessp,\n"
     ]
    },
    {
     "data": {
      "text/plain": [
       "7.17050726023111"
      ]
     },
     "execution_count": 10,
     "metadata": {},
     "output_type": "execute_result"
    }
   ],
   "source": [
    "L_opt = prec_chol_L_opt(x, L_prev, perm_indices)\n",
    "prec_4 = gspme.chol_to_precision(L_opt, perm_indices)\n",
    "print(prec_4.A)\n",
    "gspme.dmrfL(x, L_opt, perm_indices)"
   ]
  },
  {
   "cell_type": "code",
   "execution_count": 11,
   "id": "6cc52d99",
   "metadata": {},
   "outputs": [],
   "source": [
    "def paramIntoPrec(theta, graph):\n",
    "    i, j, _ = sparse.find(sparse.tril(graph))\n",
    "    prec_ltri = sparse.csc_matrix((theta, (i, j)), shape=graph.shape)\n",
    "    prec = sparse.triu(prec_ltri.transpose(), k=1) + prec_ltri\n",
    "    return prec\n",
    "\n",
    "def fun(theta, x, graph_prec, perm_indices):\n",
    "    prec = paramIntoPrec(theta, graph_prec)\n",
    "    return gspme.dmrf(x, prec, perm_indices)\n",
    "\n",
    "def grad(theta, x, graph_prec, perm_indices):\n",
    "    prec = paramIntoPrec(theta, graph_prec)\n",
    "    return gspme.dmrf_grad(x, prec, prec).ravel()\n",
    "    #return gspme.ddmrf(x, prec, perm_indices, 1.0)\n",
    "    \n",
    "def hess(theta, x, graph_prec, perm_indices):\n",
    "    prec = paramIntoPrec(theta, graph_prec)\n",
    "    return gspme.dmrf_hess(prec, sparse.tril(prec))\n",
    "\n",
    "def prec_opt(x, prec, perm_indices):\n",
    "    _, _, theta = sparse.find(sparse.tril(prec))\n",
    "    opt = minimize(\n",
    "        fun,\n",
    "        theta,\n",
    "        args=(x, prec, perm_indices),\n",
    "        method=\"trust-ncg\",\n",
    "        #method=\"Nelder-Mead\",\n",
    "        #method=\"SLSQP\",\n",
    "        #method='L-BFGS-B',\n",
    "        #method=\"TNC\",\n",
    "        #method='trust-constr',\n",
    "        #method=\"trust-exact\",\n",
    "        #method=\"trust-krylov\",\n",
    "        #method=\"dogleg\",\n",
    "        jac=grad,\n",
    "        hess=hess,\n",
    "        options={'disp': False,},\n",
    "    )\n",
    "    prec = paramIntoPrec(opt.x, prec)\n",
    "    return prec"
   ]
  },
  {
   "cell_type": "code",
   "execution_count": 12,
   "id": "c4c6486b",
   "metadata": {
    "scrolled": true
   },
   "outputs": [
    {
     "name": "stdout",
     "output_type": "stream",
     "text": [
      "[[ 1.19253219 -1.18370622  0.          0.          0.          0.\n",
      "   0.          0.          0.          0.        ]\n",
      " [-1.18370622  2.20922446 -1.03205711  0.          0.          0.\n",
      "   0.          0.          0.          0.        ]\n",
      " [ 0.         -1.03205711  1.96501087 -0.93630875  0.          0.\n",
      "   0.          0.          0.          0.        ]\n",
      " [ 0.          0.         -0.93630875  2.10668887 -1.15959284  0.\n",
      "   0.          0.          0.          0.        ]\n",
      " [ 0.          0.          0.         -1.15959284  2.29610706 -1.12710687\n",
      "   0.          0.          0.          0.        ]\n",
      " [ 0.          0.          0.          0.         -1.12710687  2.08911903\n",
      "  -0.9617625   0.          0.          0.        ]\n",
      " [ 0.          0.          0.          0.          0.         -0.9617625\n",
      "   1.84485933 -0.89829663  0.          0.        ]\n",
      " [ 0.          0.          0.          0.          0.          0.\n",
      "  -0.89829663  2.01703606 -1.10054785  0.        ]\n",
      " [ 0.          0.          0.          0.          0.          0.\n",
      "   0.         -1.10054785  2.06101596 -0.94919432]\n",
      " [ 0.          0.          0.          0.          0.          0.\n",
      "   0.          0.         -0.94919432  0.93969421]]\n"
     ]
    }
   ],
   "source": [
    "#prec_5 = prec_opt(x, prec_pop, perm_indices)\n",
    "prec_5 = prec_opt(x, prec_4, perm_indices)\n",
    "print(prec_5.A)"
   ]
  },
  {
   "cell_type": "code",
   "execution_count": 13,
   "id": "c4b3bdf1",
   "metadata": {},
   "outputs": [
    {
     "name": "stdout",
     "output_type": "stream",
     "text": [
      "0.473056133782124\n",
      "0.44646735068134563\n",
      "7.1705072602310995\n",
      "6.708009323700677\n",
      "6.757116042409029\n"
     ]
    }
   ],
   "source": [
    "print(frobenius_norm(prec_pop - prec_5))\n",
    "print(frobenius_norm(prec_pop - prec_4))\n",
    "print(gspme.dmrf(x, prec_4, perm_indices))\n",
    "print(gspme.dmrf(x, prec_5, perm_indices))\n",
    "print(gspme.dmrf(x, prec_pop, perm_indices))"
   ]
  }
 ],
 "metadata": {
  "kernelspec": {
   "display_name": "Python 3 (ipykernel)",
   "language": "python",
   "name": "python3"
  },
  "language_info": {
   "codemirror_mode": {
    "name": "ipython",
    "version": 3
   },
   "file_extension": ".py",
   "mimetype": "text/x-python",
   "name": "python",
   "nbconvert_exporter": "python",
   "pygments_lexer": "ipython3",
   "version": "3.10.0"
  }
 },
 "nbformat": 4,
 "nbformat_minor": 5
}
